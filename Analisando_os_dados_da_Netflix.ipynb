{
  "nbformat": 4,
  "nbformat_minor": 0,
  "metadata": {
    "colab": {
      "name": "Analisando os dados da Netflix.ipynb",
      "provenance": []
    },
    "kernelspec": {
      "name": "python3",
      "display_name": "Python 3"
    },
    "language_info": {
      "name": "python"
    }
  },
  "cells": [
    {
      "cell_type": "markdown",
      "metadata": {
        "id": "SdEROKtEOpv7"
      },
      "source": [
        "# Iniciando a análise\n",
        "\n",
        "Vamos usar Pandas e Seaborn\n",
        "\n",
        "https://pandas.pydata.org/docs/\n",
        "\n",
        "\n",
        "https://seaborn.pydata.org/"
      ]
    },
    {
      "cell_type": "code",
      "metadata": {
        "id": "gytabI_WN88U"
      },
      "source": [
        "import pandas as pd"
      ],
      "execution_count": 1,
      "outputs": []
    },
    {
      "cell_type": "code",
      "metadata": {
        "id": "Y4HI9BzQOfPQ"
      },
      "source": [
        "df = pd.read_csv('netflix_titles.csv')"
      ],
      "execution_count": 4,
      "outputs": []
    },
    {
      "cell_type": "code",
      "metadata": {
        "colab": {
          "base_uri": "https://localhost:8080/",
          "height": 943
        },
        "id": "2ZtRgTWXOmXJ",
        "outputId": "e5d335e4-46cd-44fe-c93a-ef9f88c203ab"
      },
      "source": [
        "df"
      ],
      "execution_count": 5,
      "outputs": [
        {
          "output_type": "execute_result",
          "data": {
            "text/html": [
              "<div>\n",
              "<style scoped>\n",
              "    .dataframe tbody tr th:only-of-type {\n",
              "        vertical-align: middle;\n",
              "    }\n",
              "\n",
              "    .dataframe tbody tr th {\n",
              "        vertical-align: top;\n",
              "    }\n",
              "\n",
              "    .dataframe thead th {\n",
              "        text-align: right;\n",
              "    }\n",
              "</style>\n",
              "<table border=\"1\" class=\"dataframe\">\n",
              "  <thead>\n",
              "    <tr style=\"text-align: right;\">\n",
              "      <th></th>\n",
              "      <th>show_id</th>\n",
              "      <th>type</th>\n",
              "      <th>title</th>\n",
              "      <th>director</th>\n",
              "      <th>cast</th>\n",
              "      <th>country</th>\n",
              "      <th>date_added</th>\n",
              "      <th>release_year</th>\n",
              "      <th>rating</th>\n",
              "      <th>duration</th>\n",
              "      <th>listed_in</th>\n",
              "      <th>description</th>\n",
              "    </tr>\n",
              "  </thead>\n",
              "  <tbody>\n",
              "    <tr>\n",
              "      <th>0</th>\n",
              "      <td>s1</td>\n",
              "      <td>Movie</td>\n",
              "      <td>Dick Johnson Is Dead</td>\n",
              "      <td>Kirsten Johnson</td>\n",
              "      <td>NaN</td>\n",
              "      <td>United States</td>\n",
              "      <td>September 25, 2021</td>\n",
              "      <td>2020</td>\n",
              "      <td>PG-13</td>\n",
              "      <td>90 min</td>\n",
              "      <td>Documentaries</td>\n",
              "      <td>As her father nears the end of his life, filmm...</td>\n",
              "    </tr>\n",
              "    <tr>\n",
              "      <th>1</th>\n",
              "      <td>s2</td>\n",
              "      <td>TV Show</td>\n",
              "      <td>Blood &amp; Water</td>\n",
              "      <td>NaN</td>\n",
              "      <td>Ama Qamata, Khosi Ngema, Gail Mabalane, Thaban...</td>\n",
              "      <td>South Africa</td>\n",
              "      <td>September 24, 2021</td>\n",
              "      <td>2021</td>\n",
              "      <td>TV-MA</td>\n",
              "      <td>2 Seasons</td>\n",
              "      <td>International TV Shows, TV Dramas, TV Mysteries</td>\n",
              "      <td>After crossing paths at a party, a Cape Town t...</td>\n",
              "    </tr>\n",
              "    <tr>\n",
              "      <th>2</th>\n",
              "      <td>s3</td>\n",
              "      <td>TV Show</td>\n",
              "      <td>Ganglands</td>\n",
              "      <td>Julien Leclercq</td>\n",
              "      <td>Sami Bouajila, Tracy Gotoas, Samuel Jouy, Nabi...</td>\n",
              "      <td>NaN</td>\n",
              "      <td>September 24, 2021</td>\n",
              "      <td>2021</td>\n",
              "      <td>TV-MA</td>\n",
              "      <td>1 Season</td>\n",
              "      <td>Crime TV Shows, International TV Shows, TV Act...</td>\n",
              "      <td>To protect his family from a powerful drug lor...</td>\n",
              "    </tr>\n",
              "    <tr>\n",
              "      <th>3</th>\n",
              "      <td>s4</td>\n",
              "      <td>TV Show</td>\n",
              "      <td>Jailbirds New Orleans</td>\n",
              "      <td>NaN</td>\n",
              "      <td>NaN</td>\n",
              "      <td>NaN</td>\n",
              "      <td>September 24, 2021</td>\n",
              "      <td>2021</td>\n",
              "      <td>TV-MA</td>\n",
              "      <td>1 Season</td>\n",
              "      <td>Docuseries, Reality TV</td>\n",
              "      <td>Feuds, flirtations and toilet talk go down amo...</td>\n",
              "    </tr>\n",
              "    <tr>\n",
              "      <th>4</th>\n",
              "      <td>s5</td>\n",
              "      <td>TV Show</td>\n",
              "      <td>Kota Factory</td>\n",
              "      <td>NaN</td>\n",
              "      <td>Mayur More, Jitendra Kumar, Ranjan Raj, Alam K...</td>\n",
              "      <td>India</td>\n",
              "      <td>September 24, 2021</td>\n",
              "      <td>2021</td>\n",
              "      <td>TV-MA</td>\n",
              "      <td>2 Seasons</td>\n",
              "      <td>International TV Shows, Romantic TV Shows, TV ...</td>\n",
              "      <td>In a city of coaching centers known to train I...</td>\n",
              "    </tr>\n",
              "    <tr>\n",
              "      <th>...</th>\n",
              "      <td>...</td>\n",
              "      <td>...</td>\n",
              "      <td>...</td>\n",
              "      <td>...</td>\n",
              "      <td>...</td>\n",
              "      <td>...</td>\n",
              "      <td>...</td>\n",
              "      <td>...</td>\n",
              "      <td>...</td>\n",
              "      <td>...</td>\n",
              "      <td>...</td>\n",
              "      <td>...</td>\n",
              "    </tr>\n",
              "    <tr>\n",
              "      <th>8802</th>\n",
              "      <td>s8803</td>\n",
              "      <td>Movie</td>\n",
              "      <td>Zodiac</td>\n",
              "      <td>David Fincher</td>\n",
              "      <td>Mark Ruffalo, Jake Gyllenhaal, Robert Downey J...</td>\n",
              "      <td>United States</td>\n",
              "      <td>November 20, 2019</td>\n",
              "      <td>2007</td>\n",
              "      <td>R</td>\n",
              "      <td>158 min</td>\n",
              "      <td>Cult Movies, Dramas, Thrillers</td>\n",
              "      <td>A political cartoonist, a crime reporter and a...</td>\n",
              "    </tr>\n",
              "    <tr>\n",
              "      <th>8803</th>\n",
              "      <td>s8804</td>\n",
              "      <td>TV Show</td>\n",
              "      <td>Zombie Dumb</td>\n",
              "      <td>NaN</td>\n",
              "      <td>NaN</td>\n",
              "      <td>NaN</td>\n",
              "      <td>July 1, 2019</td>\n",
              "      <td>2018</td>\n",
              "      <td>TV-Y7</td>\n",
              "      <td>2 Seasons</td>\n",
              "      <td>Kids' TV, Korean TV Shows, TV Comedies</td>\n",
              "      <td>While living alone in a spooky town, a young g...</td>\n",
              "    </tr>\n",
              "    <tr>\n",
              "      <th>8804</th>\n",
              "      <td>s8805</td>\n",
              "      <td>Movie</td>\n",
              "      <td>Zombieland</td>\n",
              "      <td>Ruben Fleischer</td>\n",
              "      <td>Jesse Eisenberg, Woody Harrelson, Emma Stone, ...</td>\n",
              "      <td>United States</td>\n",
              "      <td>November 1, 2019</td>\n",
              "      <td>2009</td>\n",
              "      <td>R</td>\n",
              "      <td>88 min</td>\n",
              "      <td>Comedies, Horror Movies</td>\n",
              "      <td>Looking to survive in a world taken over by zo...</td>\n",
              "    </tr>\n",
              "    <tr>\n",
              "      <th>8805</th>\n",
              "      <td>s8806</td>\n",
              "      <td>Movie</td>\n",
              "      <td>Zoom</td>\n",
              "      <td>Peter Hewitt</td>\n",
              "      <td>Tim Allen, Courteney Cox, Chevy Chase, Kate Ma...</td>\n",
              "      <td>United States</td>\n",
              "      <td>January 11, 2020</td>\n",
              "      <td>2006</td>\n",
              "      <td>PG</td>\n",
              "      <td>88 min</td>\n",
              "      <td>Children &amp; Family Movies, Comedies</td>\n",
              "      <td>Dragged from civilian life, a former superhero...</td>\n",
              "    </tr>\n",
              "    <tr>\n",
              "      <th>8806</th>\n",
              "      <td>s8807</td>\n",
              "      <td>Movie</td>\n",
              "      <td>Zubaan</td>\n",
              "      <td>Mozez Singh</td>\n",
              "      <td>Vicky Kaushal, Sarah-Jane Dias, Raaghav Chanan...</td>\n",
              "      <td>India</td>\n",
              "      <td>March 2, 2019</td>\n",
              "      <td>2015</td>\n",
              "      <td>TV-14</td>\n",
              "      <td>111 min</td>\n",
              "      <td>Dramas, International Movies, Music &amp; Musicals</td>\n",
              "      <td>A scrappy but poor boy worms his way into a ty...</td>\n",
              "    </tr>\n",
              "  </tbody>\n",
              "</table>\n",
              "<p>8807 rows × 12 columns</p>\n",
              "</div>"
            ],
            "text/plain": [
              "     show_id  ...                                        description\n",
              "0         s1  ...  As her father nears the end of his life, filmm...\n",
              "1         s2  ...  After crossing paths at a party, a Cape Town t...\n",
              "2         s3  ...  To protect his family from a powerful drug lor...\n",
              "3         s4  ...  Feuds, flirtations and toilet talk go down amo...\n",
              "4         s5  ...  In a city of coaching centers known to train I...\n",
              "...      ...  ...                                                ...\n",
              "8802   s8803  ...  A political cartoonist, a crime reporter and a...\n",
              "8803   s8804  ...  While living alone in a spooky town, a young g...\n",
              "8804   s8805  ...  Looking to survive in a world taken over by zo...\n",
              "8805   s8806  ...  Dragged from civilian life, a former superhero...\n",
              "8806   s8807  ...  A scrappy but poor boy worms his way into a ty...\n",
              "\n",
              "[8807 rows x 12 columns]"
            ]
          },
          "metadata": {},
          "execution_count": 5
        }
      ]
    },
    {
      "cell_type": "code",
      "metadata": {
        "colab": {
          "base_uri": "https://localhost:8080/"
        },
        "id": "INxAXvmFPf8B",
        "outputId": "75b6e74f-e04f-464e-c6de-4eabd0b16d02"
      },
      "source": [
        "df.info()"
      ],
      "execution_count": 6,
      "outputs": [
        {
          "output_type": "stream",
          "name": "stdout",
          "text": [
            "<class 'pandas.core.frame.DataFrame'>\n",
            "RangeIndex: 8807 entries, 0 to 8806\n",
            "Data columns (total 12 columns):\n",
            " #   Column        Non-Null Count  Dtype \n",
            "---  ------        --------------  ----- \n",
            " 0   show_id       8807 non-null   object\n",
            " 1   type          8807 non-null   object\n",
            " 2   title         8807 non-null   object\n",
            " 3   director      6173 non-null   object\n",
            " 4   cast          7982 non-null   object\n",
            " 5   country       7976 non-null   object\n",
            " 6   date_added    8797 non-null   object\n",
            " 7   release_year  8807 non-null   int64 \n",
            " 8   rating        8803 non-null   object\n",
            " 9   duration      8804 non-null   object\n",
            " 10  listed_in     8807 non-null   object\n",
            " 11  description   8807 non-null   object\n",
            "dtypes: int64(1), object(11)\n",
            "memory usage: 825.8+ KB\n"
          ]
        }
      ]
    },
    {
      "cell_type": "code",
      "metadata": {
        "colab": {
          "base_uri": "https://localhost:8080/",
          "height": 199
        },
        "id": "VMBnVhAdPmra",
        "outputId": "efaacf02-a71c-440e-92ca-a31b65c9dec8"
      },
      "source": [
        "df.head(2)"
      ],
      "execution_count": 8,
      "outputs": [
        {
          "output_type": "execute_result",
          "data": {
            "text/html": [
              "<div>\n",
              "<style scoped>\n",
              "    .dataframe tbody tr th:only-of-type {\n",
              "        vertical-align: middle;\n",
              "    }\n",
              "\n",
              "    .dataframe tbody tr th {\n",
              "        vertical-align: top;\n",
              "    }\n",
              "\n",
              "    .dataframe thead th {\n",
              "        text-align: right;\n",
              "    }\n",
              "</style>\n",
              "<table border=\"1\" class=\"dataframe\">\n",
              "  <thead>\n",
              "    <tr style=\"text-align: right;\">\n",
              "      <th></th>\n",
              "      <th>show_id</th>\n",
              "      <th>type</th>\n",
              "      <th>title</th>\n",
              "      <th>director</th>\n",
              "      <th>cast</th>\n",
              "      <th>country</th>\n",
              "      <th>date_added</th>\n",
              "      <th>release_year</th>\n",
              "      <th>rating</th>\n",
              "      <th>duration</th>\n",
              "      <th>listed_in</th>\n",
              "      <th>description</th>\n",
              "    </tr>\n",
              "  </thead>\n",
              "  <tbody>\n",
              "    <tr>\n",
              "      <th>0</th>\n",
              "      <td>s1</td>\n",
              "      <td>Movie</td>\n",
              "      <td>Dick Johnson Is Dead</td>\n",
              "      <td>Kirsten Johnson</td>\n",
              "      <td>NaN</td>\n",
              "      <td>United States</td>\n",
              "      <td>September 25, 2021</td>\n",
              "      <td>2020</td>\n",
              "      <td>PG-13</td>\n",
              "      <td>90 min</td>\n",
              "      <td>Documentaries</td>\n",
              "      <td>As her father nears the end of his life, filmm...</td>\n",
              "    </tr>\n",
              "    <tr>\n",
              "      <th>1</th>\n",
              "      <td>s2</td>\n",
              "      <td>TV Show</td>\n",
              "      <td>Blood &amp; Water</td>\n",
              "      <td>NaN</td>\n",
              "      <td>Ama Qamata, Khosi Ngema, Gail Mabalane, Thaban...</td>\n",
              "      <td>South Africa</td>\n",
              "      <td>September 24, 2021</td>\n",
              "      <td>2021</td>\n",
              "      <td>TV-MA</td>\n",
              "      <td>2 Seasons</td>\n",
              "      <td>International TV Shows, TV Dramas, TV Mysteries</td>\n",
              "      <td>After crossing paths at a party, a Cape Town t...</td>\n",
              "    </tr>\n",
              "  </tbody>\n",
              "</table>\n",
              "</div>"
            ],
            "text/plain": [
              "  show_id  ...                                        description\n",
              "0      s1  ...  As her father nears the end of his life, filmm...\n",
              "1      s2  ...  After crossing paths at a party, a Cape Town t...\n",
              "\n",
              "[2 rows x 12 columns]"
            ]
          },
          "metadata": {},
          "execution_count": 8
        }
      ]
    },
    {
      "cell_type": "code",
      "metadata": {
        "colab": {
          "base_uri": "https://localhost:8080/"
        },
        "id": "fJLaeSzgPw1Z",
        "outputId": "9b9bc453-c24a-4749-ee46-5346a1503b9c"
      },
      "source": [
        "df.shape"
      ],
      "execution_count": 9,
      "outputs": [
        {
          "output_type": "execute_result",
          "data": {
            "text/plain": [
              "(8807, 12)"
            ]
          },
          "metadata": {},
          "execution_count": 9
        }
      ]
    },
    {
      "cell_type": "code",
      "metadata": {
        "colab": {
          "base_uri": "https://localhost:8080/"
        },
        "id": "wchv16OSQRC2",
        "outputId": "5a8dec46-7a83-47ae-b27a-628114900846"
      },
      "source": [
        "linhas = df.shape[0]\n",
        "colunas = df.shape[1]\n",
        "\n",
        "print(f'Esta base de dados possui {linhas} linhas e {colunas} colunas')"
      ],
      "execution_count": 10,
      "outputs": [
        {
          "output_type": "stream",
          "name": "stdout",
          "text": [
            "Esta base de dados possui 8807 linhas e 12 colunas\n"
          ]
        }
      ]
    },
    {
      "cell_type": "code",
      "metadata": {
        "colab": {
          "base_uri": "https://localhost:8080/"
        },
        "id": "azGKN7FyQjXr",
        "outputId": "a858b249-d770-4305-d968-a8e6ebb1201b"
      },
      "source": [
        "df.columns"
      ],
      "execution_count": 15,
      "outputs": [
        {
          "output_type": "execute_result",
          "data": {
            "text/plain": [
              "Index(['id_programa', 'serie_filme', 'titulo', 'diretor', 'elenco', 'pais',\n",
              "       'adicionado_na_netflix', 'ano_de_lancamento', 'avaliacao', 'duracao',\n",
              "       'classificacao', 'descricao'],\n",
              "      dtype='object')"
            ]
          },
          "metadata": {},
          "execution_count": 15
        }
      ]
    },
    {
      "cell_type": "code",
      "metadata": {
        "id": "RFJ97xFtQoFR"
      },
      "source": [
        "renomear = {\n",
        "    'show_id':'id_programa', \n",
        "    'type':'serie_filme', \n",
        "    'title':'titulo', \n",
        "    'director':'diretor', \n",
        "    'cast':'elenco', \n",
        "    'country':'pais', \n",
        "    'date_added':'adicionado_na_netflix',\n",
        "    'release_year':'ano_de_lancamento', \n",
        "    'rating':'avaliacao', \n",
        "    'duration': 'duracao', \n",
        "    'listed_in':'classificacao', \n",
        "    'description':'descricao'\n",
        "}"
      ],
      "execution_count": 12,
      "outputs": []
    },
    {
      "cell_type": "code",
      "metadata": {
        "id": "XOAL3Z58RWp-"
      },
      "source": [
        "df = df.rename(columns=renomear)"
      ],
      "execution_count": 14,
      "outputs": []
    },
    {
      "cell_type": "code",
      "metadata": {
        "colab": {
          "base_uri": "https://localhost:8080/"
        },
        "id": "SL0tHPCORgPu",
        "outputId": "2224e12d-c89c-4e9b-8d7f-09e0f1a41444"
      },
      "source": [
        "df.serie_filme.unique()"
      ],
      "execution_count": 16,
      "outputs": [
        {
          "output_type": "execute_result",
          "data": {
            "text/plain": [
              "array(['Movie', 'TV Show'], dtype=object)"
            ]
          },
          "metadata": {},
          "execution_count": 16
        }
      ]
    },
    {
      "cell_type": "code",
      "metadata": {
        "id": "_MPf6FJeRuN7"
      },
      "source": [
        "serie_filme = {\n",
        "    'Movie':'filme', 'TV Show':'serie'\n",
        "}\n",
        "\n",
        "df.serie_filme = df.serie_filme.map(serie_filme)"
      ],
      "execution_count": 17,
      "outputs": []
    },
    {
      "cell_type": "code",
      "metadata": {
        "colab": {
          "base_uri": "https://localhost:8080/",
          "height": 441
        },
        "id": "JevmRYi3SC-s",
        "outputId": "57ee6ae5-e433-4c8c-fe16-ae5108990d64"
      },
      "source": [
        "df.head(3)"
      ],
      "execution_count": 18,
      "outputs": [
        {
          "output_type": "execute_result",
          "data": {
            "text/html": [
              "<div>\n",
              "<style scoped>\n",
              "    .dataframe tbody tr th:only-of-type {\n",
              "        vertical-align: middle;\n",
              "    }\n",
              "\n",
              "    .dataframe tbody tr th {\n",
              "        vertical-align: top;\n",
              "    }\n",
              "\n",
              "    .dataframe thead th {\n",
              "        text-align: right;\n",
              "    }\n",
              "</style>\n",
              "<table border=\"1\" class=\"dataframe\">\n",
              "  <thead>\n",
              "    <tr style=\"text-align: right;\">\n",
              "      <th></th>\n",
              "      <th>id_programa</th>\n",
              "      <th>serie_filme</th>\n",
              "      <th>titulo</th>\n",
              "      <th>diretor</th>\n",
              "      <th>elenco</th>\n",
              "      <th>pais</th>\n",
              "      <th>adicionado_na_netflix</th>\n",
              "      <th>ano_de_lancamento</th>\n",
              "      <th>avaliacao</th>\n",
              "      <th>duracao</th>\n",
              "      <th>classificacao</th>\n",
              "      <th>descricao</th>\n",
              "    </tr>\n",
              "  </thead>\n",
              "  <tbody>\n",
              "    <tr>\n",
              "      <th>0</th>\n",
              "      <td>s1</td>\n",
              "      <td>filme</td>\n",
              "      <td>Dick Johnson Is Dead</td>\n",
              "      <td>Kirsten Johnson</td>\n",
              "      <td>NaN</td>\n",
              "      <td>United States</td>\n",
              "      <td>September 25, 2021</td>\n",
              "      <td>2020</td>\n",
              "      <td>PG-13</td>\n",
              "      <td>90 min</td>\n",
              "      <td>Documentaries</td>\n",
              "      <td>As her father nears the end of his life, filmm...</td>\n",
              "    </tr>\n",
              "    <tr>\n",
              "      <th>1</th>\n",
              "      <td>s2</td>\n",
              "      <td>serie</td>\n",
              "      <td>Blood &amp; Water</td>\n",
              "      <td>NaN</td>\n",
              "      <td>Ama Qamata, Khosi Ngema, Gail Mabalane, Thaban...</td>\n",
              "      <td>South Africa</td>\n",
              "      <td>September 24, 2021</td>\n",
              "      <td>2021</td>\n",
              "      <td>TV-MA</td>\n",
              "      <td>2 Seasons</td>\n",
              "      <td>International TV Shows, TV Dramas, TV Mysteries</td>\n",
              "      <td>After crossing paths at a party, a Cape Town t...</td>\n",
              "    </tr>\n",
              "    <tr>\n",
              "      <th>2</th>\n",
              "      <td>s3</td>\n",
              "      <td>serie</td>\n",
              "      <td>Ganglands</td>\n",
              "      <td>Julien Leclercq</td>\n",
              "      <td>Sami Bouajila, Tracy Gotoas, Samuel Jouy, Nabi...</td>\n",
              "      <td>NaN</td>\n",
              "      <td>September 24, 2021</td>\n",
              "      <td>2021</td>\n",
              "      <td>TV-MA</td>\n",
              "      <td>1 Season</td>\n",
              "      <td>Crime TV Shows, International TV Shows, TV Act...</td>\n",
              "      <td>To protect his family from a powerful drug lor...</td>\n",
              "    </tr>\n",
              "  </tbody>\n",
              "</table>\n",
              "</div>"
            ],
            "text/plain": [
              "  id_programa  ...                                          descricao\n",
              "0          s1  ...  As her father nears the end of his life, filmm...\n",
              "1          s2  ...  After crossing paths at a party, a Cape Town t...\n",
              "2          s3  ...  To protect his family from a powerful drug lor...\n",
              "\n",
              "[3 rows x 12 columns]"
            ]
          },
          "metadata": {},
          "execution_count": 18
        }
      ]
    },
    {
      "cell_type": "markdown",
      "metadata": {
        "id": "8bVFK_PdSUZa"
      },
      "source": [
        "## Quantos filmes e séries estão presentes na Netflix?"
      ]
    },
    {
      "cell_type": "code",
      "metadata": {
        "colab": {
          "base_uri": "https://localhost:8080/"
        },
        "id": "1gC1zpQVSEuA",
        "outputId": "9ea9603c-87a2-4027-debd-f2af9e43a820"
      },
      "source": [
        "df.serie_filme.value_counts()"
      ],
      "execution_count": 19,
      "outputs": [
        {
          "output_type": "execute_result",
          "data": {
            "text/plain": [
              "filme    6131\n",
              "serie    2676\n",
              "Name: serie_filme, dtype: int64"
            ]
          },
          "metadata": {},
          "execution_count": 19
        }
      ]
    },
    {
      "cell_type": "code",
      "metadata": {
        "colab": {
          "base_uri": "https://localhost:8080/",
          "height": 265
        },
        "id": "fDcWQi_LSjZo",
        "outputId": "827383f2-ffe3-4a37-9202-52c561a683dc"
      },
      "source": [
        "df['serie_filme'].value_counts().plot(kind='pie')"
      ],
      "execution_count": 21,
      "outputs": [
        {
          "output_type": "execute_result",
          "data": {
            "text/plain": [
              "<matplotlib.axes._subplots.AxesSubplot at 0x7fbf27753290>"
            ]
          },
          "metadata": {},
          "execution_count": 21
        },
        {
          "output_type": "display_data",
          "data": {
            "image/png": "[encoded data removed]",
            "text/plain": [
              "<Figure size 432x288 with 1 Axes>"
            ]
          },
          "metadata": {}
        }
      ]
    },
    {
      "cell_type": "code",
      "metadata": {
        "colab": {
          "base_uri": "https://localhost:8080/",
          "height": 265
        },
        "id": "colJXWV7SyYy",
        "outputId": "219c19b1-89e9-47c0-aa31-d8a14026302c"
      },
      "source": [
        "df['serie_filme'].value_counts().plot(kind='pie', autopct='%1.0f%%')"
      ],
      "execution_count": 22,
      "outputs": [
        {
          "output_type": "execute_result",
          "data": {
            "text/plain": [
              "<matplotlib.axes._subplots.AxesSubplot at 0x7fbf26c11b10>"
            ]
          },
          "metadata": {},
          "execution_count": 22
        },
        {
          "output_type": "display_data",
          "data": {
            "image/png": "[encoded data removed]",
            "text/plain": [
              "<Figure size 432x288 with 1 Axes>"
            ]
          },
          "metadata": {}
        }
      ]
    },
    {
      "cell_type": "markdown",
      "metadata": {
        "id": "9z-A1DVATcpr"
      },
      "source": [
        "## Filmes nacionais"
      ]
    },
    {
      "cell_type": "code",
      "metadata": {
        "colab": {
          "base_uri": "https://localhost:8080/",
          "height": 323
        },
        "id": "S-gafxbtTL5z",
        "outputId": "40e0df03-fac6-4956-b603-009e5436d955"
      },
      "source": [
        "df.tail(2)"
      ],
      "execution_count": 24,
      "outputs": [
        {
          "output_type": "execute_result",
          "data": {
            "text/html": [
              "<div>\n",
              "<style scoped>\n",
              "    .dataframe tbody tr th:only-of-type {\n",
              "        vertical-align: middle;\n",
              "    }\n",
              "\n",
              "    .dataframe tbody tr th {\n",
              "        vertical-align: top;\n",
              "    }\n",
              "\n",
              "    .dataframe thead th {\n",
              "        text-align: right;\n",
              "    }\n",
              "</style>\n",
              "<table border=\"1\" class=\"dataframe\">\n",
              "  <thead>\n",
              "    <tr style=\"text-align: right;\">\n",
              "      <th></th>\n",
              "      <th>id_programa</th>\n",
              "      <th>serie_filme</th>\n",
              "      <th>titulo</th>\n",
              "      <th>diretor</th>\n",
              "      <th>elenco</th>\n",
              "      <th>pais</th>\n",
              "      <th>adicionado_na_netflix</th>\n",
              "      <th>ano_de_lancamento</th>\n",
              "      <th>avaliacao</th>\n",
              "      <th>duracao</th>\n",
              "      <th>classificacao</th>\n",
              "      <th>descricao</th>\n",
              "    </tr>\n",
              "  </thead>\n",
              "  <tbody>\n",
              "    <tr>\n",
              "      <th>8805</th>\n",
              "      <td>s8806</td>\n",
              "      <td>filme</td>\n",
              "      <td>Zoom</td>\n",
              "      <td>Peter Hewitt</td>\n",
              "      <td>Tim Allen, Courteney Cox, Chevy Chase, Kate Ma...</td>\n",
              "      <td>United States</td>\n",
              "      <td>January 11, 2020</td>\n",
              "      <td>2006</td>\n",
              "      <td>PG</td>\n",
              "      <td>88 min</td>\n",
              "      <td>Children &amp; Family Movies, Comedies</td>\n",
              "      <td>Dragged from civilian life, a former superhero...</td>\n",
              "    </tr>\n",
              "    <tr>\n",
              "      <th>8806</th>\n",
              "      <td>s8807</td>\n",
              "      <td>filme</td>\n",
              "      <td>Zubaan</td>\n",
              "      <td>Mozez Singh</td>\n",
              "      <td>Vicky Kaushal, Sarah-Jane Dias, Raaghav Chanan...</td>\n",
              "      <td>India</td>\n",
              "      <td>March 2, 2019</td>\n",
              "      <td>2015</td>\n",
              "      <td>TV-14</td>\n",
              "      <td>111 min</td>\n",
              "      <td>Dramas, International Movies, Music &amp; Musicals</td>\n",
              "      <td>A scrappy but poor boy worms his way into a ty...</td>\n",
              "    </tr>\n",
              "  </tbody>\n",
              "</table>\n",
              "</div>"
            ],
            "text/plain": [
              "     id_programa  ...                                          descricao\n",
              "8805       s8806  ...  Dragged from civilian life, a former superhero...\n",
              "8806       s8807  ...  A scrappy but poor boy worms his way into a ty...\n",
              "\n",
              "[2 rows x 12 columns]"
            ]
          },
          "metadata": {},
          "execution_count": 24
        }
      ]
    },
    {
      "cell_type": "code",
      "metadata": {
        "colab": {
          "base_uri": "https://localhost:8080/"
        },
        "id": "nDmHf4zfTjW4",
        "outputId": "21bac1d3-fa1b-4085-833e-0dc7a047479e"
      },
      "source": [
        "df['pais'] == 'Brazil'"
      ],
      "execution_count": 25,
      "outputs": [
        {
          "output_type": "execute_result",
          "data": {
            "text/plain": [
              "0       False\n",
              "1       False\n",
              "2       False\n",
              "3       False\n",
              "4       False\n",
              "        ...  \n",
              "8802    False\n",
              "8803    False\n",
              "8804    False\n",
              "8805    False\n",
              "8806    False\n",
              "Name: pais, Length: 8807, dtype: bool"
            ]
          },
          "metadata": {},
          "execution_count": 25
        }
      ]
    },
    {
      "cell_type": "code",
      "metadata": {
        "id": "_n7KzEYZTvTb"
      },
      "source": [
        "df_br = df[df['pais'] == 'Brazil']"
      ],
      "execution_count": 27,
      "outputs": []
    },
    {
      "cell_type": "code",
      "metadata": {
        "colab": {
          "base_uri": "https://localhost:8080/",
          "height": 389
        },
        "id": "Rbvn5KGdUHBY",
        "outputId": "c41260f9-00af-4b63-8f89-de147aefc467"
      },
      "source": [
        "df_br.head(3)"
      ],
      "execution_count": 28,
      "outputs": [
        {
          "output_type": "execute_result",
          "data": {
            "text/html": [
              "<div>\n",
              "<style scoped>\n",
              "    .dataframe tbody tr th:only-of-type {\n",
              "        vertical-align: middle;\n",
              "    }\n",
              "\n",
              "    .dataframe tbody tr th {\n",
              "        vertical-align: top;\n",
              "    }\n",
              "\n",
              "    .dataframe thead th {\n",
              "        text-align: right;\n",
              "    }\n",
              "</style>\n",
              "<table border=\"1\" class=\"dataframe\">\n",
              "  <thead>\n",
              "    <tr style=\"text-align: right;\">\n",
              "      <th></th>\n",
              "      <th>id_programa</th>\n",
              "      <th>serie_filme</th>\n",
              "      <th>titulo</th>\n",
              "      <th>diretor</th>\n",
              "      <th>elenco</th>\n",
              "      <th>pais</th>\n",
              "      <th>adicionado_na_netflix</th>\n",
              "      <th>ano_de_lancamento</th>\n",
              "      <th>avaliacao</th>\n",
              "      <th>duracao</th>\n",
              "      <th>classificacao</th>\n",
              "      <th>descricao</th>\n",
              "    </tr>\n",
              "  </thead>\n",
              "  <tbody>\n",
              "    <tr>\n",
              "      <th>302</th>\n",
              "      <td>s303</td>\n",
              "      <td>filme</td>\n",
              "      <td>City of God: 10 Years Later</td>\n",
              "      <td>Cavi Borges, Luciano Vidigal</td>\n",
              "      <td>NaN</td>\n",
              "      <td>Brazil</td>\n",
              "      <td>August 5, 2021</td>\n",
              "      <td>2013</td>\n",
              "      <td>TV-MA</td>\n",
              "      <td>69 min</td>\n",
              "      <td>Documentaries, International Movies</td>\n",
              "      <td>A decade after the seminal Brazilian film \"Cit...</td>\n",
              "    </tr>\n",
              "    <tr>\n",
              "      <th>650</th>\n",
              "      <td>s651</td>\n",
              "      <td>filme</td>\n",
              "      <td>O Vendedor de Sonhos</td>\n",
              "      <td>Jayme Monjardim</td>\n",
              "      <td>César Troncoso, Dan Stulbach, Thiago Mendonça,...</td>\n",
              "      <td>Brazil</td>\n",
              "      <td>June 22, 2021</td>\n",
              "      <td>2016</td>\n",
              "      <td>TV-14</td>\n",
              "      <td>96 min</td>\n",
              "      <td>Dramas, International Movies</td>\n",
              "      <td>A disillusioned psychologist tries to commit s...</td>\n",
              "    </tr>\n",
              "    <tr>\n",
              "      <th>783</th>\n",
              "      <td>s784</td>\n",
              "      <td>filme</td>\n",
              "      <td>Carnaval</td>\n",
              "      <td>Leandro Neri</td>\n",
              "      <td>Giovana Cordeiro, Gkay, Bruna Inocencio, Samya...</td>\n",
              "      <td>Brazil</td>\n",
              "      <td>June 2, 2021</td>\n",
              "      <td>2021</td>\n",
              "      <td>TV-MA</td>\n",
              "      <td>95 min</td>\n",
              "      <td>Comedies, International Movies, Music &amp; Musicals</td>\n",
              "      <td>After a breakup, an influencer takes her frien...</td>\n",
              "    </tr>\n",
              "  </tbody>\n",
              "</table>\n",
              "</div>"
            ],
            "text/plain": [
              "    id_programa  ...                                          descricao\n",
              "302        s303  ...  A decade after the seminal Brazilian film \"Cit...\n",
              "650        s651  ...  A disillusioned psychologist tries to commit s...\n",
              "783        s784  ...  After a breakup, an influencer takes her frien...\n",
              "\n",
              "[3 rows x 12 columns]"
            ]
          },
          "metadata": {},
          "execution_count": 28
        }
      ]
    },
    {
      "cell_type": "code",
      "metadata": {
        "id": "53n7__2pUSz1"
      },
      "source": [
        "import seaborn as sns"
      ],
      "execution_count": 29,
      "outputs": []
    },
    {
      "cell_type": "code",
      "metadata": {
        "colab": {
          "base_uri": "https://localhost:8080/",
          "height": 387
        },
        "id": "thtsM360Ub5b",
        "outputId": "4bdcce76-bb2b-4ca7-8284-dfb81275399c"
      },
      "source": [
        "sns.catplot(x='ano_de_lancamento', y='serie_filme', data=df_br)"
      ],
      "execution_count": 30,
      "outputs": [
        {
          "output_type": "execute_result",
          "data": {
            "text/plain": [
              "<seaborn.axisgrid.FacetGrid at 0x7fbf26be7a90>"
            ]
          },
          "metadata": {},
          "execution_count": 30
        },
        {
          "output_type": "display_data",
          "data": {
            "image/png": "[encoded data removed]",
            "text/plain": [
              "<Figure size 360x360 with 1 Axes>"
            ]
          },
          "metadata": {
            "needs_background": "light"
          }
        }
      ]
    },
    {
      "cell_type": "code",
      "metadata": {
        "colab": {
          "base_uri": "https://localhost:8080/",
          "height": 297
        },
        "id": "cRVAHN_-UqK_",
        "outputId": "1c3cfcf4-6307-4601-bcf2-d1312b094b33"
      },
      "source": [
        "sns.histplot(data=df_br, x='serie_filme')"
      ],
      "execution_count": 31,
      "outputs": [
        {
          "output_type": "execute_result",
          "data": {
            "text/plain": [
              "<matplotlib.axes._subplots.AxesSubplot at 0x7fbf0f322690>"
            ]
          },
          "metadata": {},
          "execution_count": 31
        },
        {
          "output_type": "display_data",
          "data": {
            "image/png": "[encoded data removed]",
            "text/plain": [
              "<Figure size 432x288 with 1 Axes>"
            ]
          },
          "metadata": {
            "needs_background": "light"
          }
        }
      ]
    },
    {
      "cell_type": "code",
      "metadata": {
        "colab": {
          "base_uri": "https://localhost:8080/"
        },
        "id": "C9uT0PBrU7oa",
        "outputId": "3f2487bb-5e00-4044-b646-80ce45429576"
      },
      "source": [
        "df_br['serie_filme'].value_counts()"
      ],
      "execution_count": 32,
      "outputs": [
        {
          "output_type": "execute_result",
          "data": {
            "text/plain": [
              "filme    50\n",
              "serie    27\n",
              "Name: serie_filme, dtype: int64"
            ]
          },
          "metadata": {},
          "execution_count": 32
        }
      ]
    },
    {
      "cell_type": "code",
      "metadata": {
        "colab": {
          "base_uri": "https://localhost:8080/",
          "height": 297
        },
        "id": "fDLIi0UHYqoj",
        "outputId": "542472b1-3e40-4a7c-89f7-f9ff8f6dbaf3"
      },
      "source": [
        "sns.scatterplot(x='ano_de_lancamento', y='avaliacao', data=df_br)"
      ],
      "execution_count": 60,
      "outputs": [
        {
          "output_type": "execute_result",
          "data": {
            "text/plain": [
              "<matplotlib.axes._subplots.AxesSubplot at 0x7fbf0d7bd8d0>"
            ]
          },
          "metadata": {},
          "execution_count": 60
        },
        {
          "output_type": "display_data",
          "data": {
            "image/png": "[encoded data removed]",
            "text/plain": [
              "<Figure size 432x288 with 1 Axes>"
            ]
          },
          "metadata": {
            "needs_background": "light"
          }
        }
      ]
    },
    {
      "cell_type": "code",
      "metadata": {
        "colab": {
          "base_uri": "https://localhost:8080/",
          "height": 297
        },
        "id": "SxbyfKSrZJF1",
        "outputId": "4cc35edf-bbd7-45b1-8041-361fd0a15a45"
      },
      "source": [
        "sns.scatterplot(x='ano_de_lancamento', y='avaliacao', hue='serie_filme',data=df_br)"
      ],
      "execution_count": 61,
      "outputs": [
        {
          "output_type": "execute_result",
          "data": {
            "text/plain": [
              "<matplotlib.axes._subplots.AxesSubplot at 0x7fbf0d733cd0>"
            ]
          },
          "metadata": {},
          "execution_count": 61
        },
        {
          "output_type": "display_data",
          "data": {
            "image/png": "[encoded data removed]",
            "text/plain": [
              "<Figure size 432x288 with 1 Axes>"
            ]
          },
          "metadata": {
            "needs_background": "light"
          }
        }
      ]
    },
    {
      "cell_type": "code",
      "metadata": {
        "colab": {
          "base_uri": "https://localhost:8080/",
          "height": 625
        },
        "id": "Ist_r_gYVFhi",
        "outputId": "316d1831-2639-4a51-db36-4f117724cab7"
      },
      "source": [
        "df_br.head()"
      ],
      "execution_count": 33,
      "outputs": [
        {
          "output_type": "execute_result",
          "data": {
            "text/html": [
              "<div>\n",
              "<style scoped>\n",
              "    .dataframe tbody tr th:only-of-type {\n",
              "        vertical-align: middle;\n",
              "    }\n",
              "\n",
              "    .dataframe tbody tr th {\n",
              "        vertical-align: top;\n",
              "    }\n",
              "\n",
              "    .dataframe thead th {\n",
              "        text-align: right;\n",
              "    }\n",
              "</style>\n",
              "<table border=\"1\" class=\"dataframe\">\n",
              "  <thead>\n",
              "    <tr style=\"text-align: right;\">\n",
              "      <th></th>\n",
              "      <th>id_programa</th>\n",
              "      <th>serie_filme</th>\n",
              "      <th>titulo</th>\n",
              "      <th>diretor</th>\n",
              "      <th>elenco</th>\n",
              "      <th>pais</th>\n",
              "      <th>adicionado_na_netflix</th>\n",
              "      <th>ano_de_lancamento</th>\n",
              "      <th>avaliacao</th>\n",
              "      <th>duracao</th>\n",
              "      <th>classificacao</th>\n",
              "      <th>descricao</th>\n",
              "    </tr>\n",
              "  </thead>\n",
              "  <tbody>\n",
              "    <tr>\n",
              "      <th>302</th>\n",
              "      <td>s303</td>\n",
              "      <td>filme</td>\n",
              "      <td>City of God: 10 Years Later</td>\n",
              "      <td>Cavi Borges, Luciano Vidigal</td>\n",
              "      <td>NaN</td>\n",
              "      <td>Brazil</td>\n",
              "      <td>August 5, 2021</td>\n",
              "      <td>2013</td>\n",
              "      <td>TV-MA</td>\n",
              "      <td>69 min</td>\n",
              "      <td>Documentaries, International Movies</td>\n",
              "      <td>A decade after the seminal Brazilian film \"Cit...</td>\n",
              "    </tr>\n",
              "    <tr>\n",
              "      <th>650</th>\n",
              "      <td>s651</td>\n",
              "      <td>filme</td>\n",
              "      <td>O Vendedor de Sonhos</td>\n",
              "      <td>Jayme Monjardim</td>\n",
              "      <td>César Troncoso, Dan Stulbach, Thiago Mendonça,...</td>\n",
              "      <td>Brazil</td>\n",
              "      <td>June 22, 2021</td>\n",
              "      <td>2016</td>\n",
              "      <td>TV-14</td>\n",
              "      <td>96 min</td>\n",
              "      <td>Dramas, International Movies</td>\n",
              "      <td>A disillusioned psychologist tries to commit s...</td>\n",
              "    </tr>\n",
              "    <tr>\n",
              "      <th>783</th>\n",
              "      <td>s784</td>\n",
              "      <td>filme</td>\n",
              "      <td>Carnaval</td>\n",
              "      <td>Leandro Neri</td>\n",
              "      <td>Giovana Cordeiro, Gkay, Bruna Inocencio, Samya...</td>\n",
              "      <td>Brazil</td>\n",
              "      <td>June 2, 2021</td>\n",
              "      <td>2021</td>\n",
              "      <td>TV-MA</td>\n",
              "      <td>95 min</td>\n",
              "      <td>Comedies, International Movies, Music &amp; Musicals</td>\n",
              "      <td>After a breakup, an influencer takes her frien...</td>\n",
              "    </tr>\n",
              "    <tr>\n",
              "      <th>966</th>\n",
              "      <td>s967</td>\n",
              "      <td>filme</td>\n",
              "      <td>Get the Grift</td>\n",
              "      <td>Pedro Antonio</td>\n",
              "      <td>Marcus Majella, Samantha Schmütz, Caito Mainie...</td>\n",
              "      <td>Brazil</td>\n",
              "      <td>April 28, 2021</td>\n",
              "      <td>2021</td>\n",
              "      <td>TV-MA</td>\n",
              "      <td>95 min</td>\n",
              "      <td>Comedies, International Movies</td>\n",
              "      <td>After a botched scam, Clóvis bumps into Lohane...</td>\n",
              "    </tr>\n",
              "    <tr>\n",
              "      <th>1188</th>\n",
              "      <td>s1189</td>\n",
              "      <td>filme</td>\n",
              "      <td>Get the Goat</td>\n",
              "      <td>Vitor Brandt</td>\n",
              "      <td>Matheus Nachtergaele, Edmilson Filho, Letícia ...</td>\n",
              "      <td>Brazil</td>\n",
              "      <td>March 18, 2021</td>\n",
              "      <td>2021</td>\n",
              "      <td>TV-14</td>\n",
              "      <td>98 min</td>\n",
              "      <td>Action &amp; Adventure, Comedies, International Mo...</td>\n",
              "      <td>Two hapless cops find themselves in over their...</td>\n",
              "    </tr>\n",
              "  </tbody>\n",
              "</table>\n",
              "</div>"
            ],
            "text/plain": [
              "     id_programa  ...                                          descricao\n",
              "302         s303  ...  A decade after the seminal Brazilian film \"Cit...\n",
              "650         s651  ...  A disillusioned psychologist tries to commit s...\n",
              "783         s784  ...  After a breakup, an influencer takes her frien...\n",
              "966         s967  ...  After a botched scam, Clóvis bumps into Lohane...\n",
              "1188       s1189  ...  Two hapless cops find themselves in over their...\n",
              "\n",
              "[5 rows x 12 columns]"
            ]
          },
          "metadata": {},
          "execution_count": 33
        }
      ]
    },
    {
      "cell_type": "code",
      "metadata": {
        "colab": {
          "base_uri": "https://localhost:8080/",
          "height": 625
        },
        "id": "AA2yOx50VWN2",
        "outputId": "34a67191-6e65-4983-e283-05c9afacac78"
      },
      "source": [
        "df_br.loc[df_br['serie_filme'] == 'serie'].head()"
      ],
      "execution_count": 35,
      "outputs": [
        {
          "output_type": "execute_result",
          "data": {
            "text/html": [
              "<div>\n",
              "<style scoped>\n",
              "    .dataframe tbody tr th:only-of-type {\n",
              "        vertical-align: middle;\n",
              "    }\n",
              "\n",
              "    .dataframe tbody tr th {\n",
              "        vertical-align: top;\n",
              "    }\n",
              "\n",
              "    .dataframe thead th {\n",
              "        text-align: right;\n",
              "    }\n",
              "</style>\n",
              "<table border=\"1\" class=\"dataframe\">\n",
              "  <thead>\n",
              "    <tr style=\"text-align: right;\">\n",
              "      <th></th>\n",
              "      <th>id_programa</th>\n",
              "      <th>serie_filme</th>\n",
              "      <th>titulo</th>\n",
              "      <th>diretor</th>\n",
              "      <th>elenco</th>\n",
              "      <th>pais</th>\n",
              "      <th>adicionado_na_netflix</th>\n",
              "      <th>ano_de_lancamento</th>\n",
              "      <th>avaliacao</th>\n",
              "      <th>duracao</th>\n",
              "      <th>classificacao</th>\n",
              "      <th>descricao</th>\n",
              "    </tr>\n",
              "  </thead>\n",
              "  <tbody>\n",
              "    <tr>\n",
              "      <th>1339</th>\n",
              "      <td>s1340</td>\n",
              "      <td>serie</td>\n",
              "      <td>Invisible City</td>\n",
              "      <td>NaN</td>\n",
              "      <td>Marco Pigossi, Alessandra Negrini, Fábio Lago,...</td>\n",
              "      <td>Brazil</td>\n",
              "      <td>February 5, 2021</td>\n",
              "      <td>2021</td>\n",
              "      <td>TV-MA</td>\n",
              "      <td>1 Season</td>\n",
              "      <td>Crime TV Shows, International TV Shows, TV Dramas</td>\n",
              "      <td>After a family tragedy, a man discovers mythic...</td>\n",
              "    </tr>\n",
              "    <tr>\n",
              "      <th>1532</th>\n",
              "      <td>s1533</td>\n",
              "      <td>serie</td>\n",
              "      <td>Anitta: Made In Honório</td>\n",
              "      <td>Andrucha Waddington, Pedro Waddington</td>\n",
              "      <td>Anitta</td>\n",
              "      <td>Brazil</td>\n",
              "      <td>December 16, 2020</td>\n",
              "      <td>2020</td>\n",
              "      <td>TV-MA</td>\n",
              "      <td>1 Season</td>\n",
              "      <td>Docuseries, International TV Shows</td>\n",
              "      <td>In this intimate documentary, Brazilian pop qu...</td>\n",
              "    </tr>\n",
              "    <tr>\n",
              "      <th>1715</th>\n",
              "      <td>s1716</td>\n",
              "      <td>serie</td>\n",
              "      <td>A Queen Is Born</td>\n",
              "      <td>Carla Barros</td>\n",
              "      <td>Gloria Groove, Alexia Twister</td>\n",
              "      <td>Brazil</td>\n",
              "      <td>November 11, 2020</td>\n",
              "      <td>2020</td>\n",
              "      <td>TV-14</td>\n",
              "      <td>1 Season</td>\n",
              "      <td>International TV Shows, Reality TV</td>\n",
              "      <td>Gloria Groove and Alexia Twister make drag dre...</td>\n",
              "    </tr>\n",
              "    <tr>\n",
              "      <th>1771</th>\n",
              "      <td>s1772</td>\n",
              "      <td>serie</td>\n",
              "      <td>Afronta! Facing It!</td>\n",
              "      <td>Juliana Vicente</td>\n",
              "      <td>Loo Nascimento, Ingrid Silva, Rincon Sapiência...</td>\n",
              "      <td>Brazil</td>\n",
              "      <td>October 31, 2020</td>\n",
              "      <td>2017</td>\n",
              "      <td>TV-PG</td>\n",
              "      <td>1 Season</td>\n",
              "      <td>Docuseries, International TV Shows</td>\n",
              "      <td>This docuseries spotlights Afro-Brazilian thin...</td>\n",
              "    </tr>\n",
              "    <tr>\n",
              "      <th>1910</th>\n",
              "      <td>s1911</td>\n",
              "      <td>serie</td>\n",
              "      <td>Good Morning, Verônica</td>\n",
              "      <td>NaN</td>\n",
              "      <td>Tainá Müller, Eduardo Moscovis, Camila Morgado...</td>\n",
              "      <td>Brazil</td>\n",
              "      <td>October 1, 2020</td>\n",
              "      <td>2020</td>\n",
              "      <td>TV-MA</td>\n",
              "      <td>1 Season</td>\n",
              "      <td>Crime TV Shows, International TV Shows, TV Mys...</td>\n",
              "      <td>While hunting for a dating-site predator, an u...</td>\n",
              "    </tr>\n",
              "  </tbody>\n",
              "</table>\n",
              "</div>"
            ],
            "text/plain": [
              "     id_programa  ...                                          descricao\n",
              "1339       s1340  ...  After a family tragedy, a man discovers mythic...\n",
              "1532       s1533  ...  In this intimate documentary, Brazilian pop qu...\n",
              "1715       s1716  ...  Gloria Groove and Alexia Twister make drag dre...\n",
              "1771       s1772  ...  This docuseries spotlights Afro-Brazilian thin...\n",
              "1910       s1911  ...  While hunting for a dating-site predator, an u...\n",
              "\n",
              "[5 rows x 12 columns]"
            ]
          },
          "metadata": {},
          "execution_count": 35
        }
      ]
    },
    {
      "cell_type": "code",
      "metadata": {
        "colab": {
          "base_uri": "https://localhost:8080/",
          "height": 625
        },
        "id": "mVpK5BkfVklM",
        "outputId": "efab3ae3-79d4-4b2d-eff7-7d96986d34a7"
      },
      "source": [
        "df_br.loc[df_br['serie_filme'] == 'filme'].head()"
      ],
      "execution_count": 36,
      "outputs": [
        {
          "output_type": "execute_result",
          "data": {
            "text/html": [
              "<div>\n",
              "<style scoped>\n",
              "    .dataframe tbody tr th:only-of-type {\n",
              "        vertical-align: middle;\n",
              "    }\n",
              "\n",
              "    .dataframe tbody tr th {\n",
              "        vertical-align: top;\n",
              "    }\n",
              "\n",
              "    .dataframe thead th {\n",
              "        text-align: right;\n",
              "    }\n",
              "</style>\n",
              "<table border=\"1\" class=\"dataframe\">\n",
              "  <thead>\n",
              "    <tr style=\"text-align: right;\">\n",
              "      <th></th>\n",
              "      <th>id_programa</th>\n",
              "      <th>serie_filme</th>\n",
              "      <th>titulo</th>\n",
              "      <th>diretor</th>\n",
              "      <th>elenco</th>\n",
              "      <th>pais</th>\n",
              "      <th>adicionado_na_netflix</th>\n",
              "      <th>ano_de_lancamento</th>\n",
              "      <th>avaliacao</th>\n",
              "      <th>duracao</th>\n",
              "      <th>classificacao</th>\n",
              "      <th>descricao</th>\n",
              "    </tr>\n",
              "  </thead>\n",
              "  <tbody>\n",
              "    <tr>\n",
              "      <th>302</th>\n",
              "      <td>s303</td>\n",
              "      <td>filme</td>\n",
              "      <td>City of God: 10 Years Later</td>\n",
              "      <td>Cavi Borges, Luciano Vidigal</td>\n",
              "      <td>NaN</td>\n",
              "      <td>Brazil</td>\n",
              "      <td>August 5, 2021</td>\n",
              "      <td>2013</td>\n",
              "      <td>TV-MA</td>\n",
              "      <td>69 min</td>\n",
              "      <td>Documentaries, International Movies</td>\n",
              "      <td>A decade after the seminal Brazilian film \"Cit...</td>\n",
              "    </tr>\n",
              "    <tr>\n",
              "      <th>650</th>\n",
              "      <td>s651</td>\n",
              "      <td>filme</td>\n",
              "      <td>O Vendedor de Sonhos</td>\n",
              "      <td>Jayme Monjardim</td>\n",
              "      <td>César Troncoso, Dan Stulbach, Thiago Mendonça,...</td>\n",
              "      <td>Brazil</td>\n",
              "      <td>June 22, 2021</td>\n",
              "      <td>2016</td>\n",
              "      <td>TV-14</td>\n",
              "      <td>96 min</td>\n",
              "      <td>Dramas, International Movies</td>\n",
              "      <td>A disillusioned psychologist tries to commit s...</td>\n",
              "    </tr>\n",
              "    <tr>\n",
              "      <th>783</th>\n",
              "      <td>s784</td>\n",
              "      <td>filme</td>\n",
              "      <td>Carnaval</td>\n",
              "      <td>Leandro Neri</td>\n",
              "      <td>Giovana Cordeiro, Gkay, Bruna Inocencio, Samya...</td>\n",
              "      <td>Brazil</td>\n",
              "      <td>June 2, 2021</td>\n",
              "      <td>2021</td>\n",
              "      <td>TV-MA</td>\n",
              "      <td>95 min</td>\n",
              "      <td>Comedies, International Movies, Music &amp; Musicals</td>\n",
              "      <td>After a breakup, an influencer takes her frien...</td>\n",
              "    </tr>\n",
              "    <tr>\n",
              "      <th>966</th>\n",
              "      <td>s967</td>\n",
              "      <td>filme</td>\n",
              "      <td>Get the Grift</td>\n",
              "      <td>Pedro Antonio</td>\n",
              "      <td>Marcus Majella, Samantha Schmütz, Caito Mainie...</td>\n",
              "      <td>Brazil</td>\n",
              "      <td>April 28, 2021</td>\n",
              "      <td>2021</td>\n",
              "      <td>TV-MA</td>\n",
              "      <td>95 min</td>\n",
              "      <td>Comedies, International Movies</td>\n",
              "      <td>After a botched scam, Clóvis bumps into Lohane...</td>\n",
              "    </tr>\n",
              "    <tr>\n",
              "      <th>1188</th>\n",
              "      <td>s1189</td>\n",
              "      <td>filme</td>\n",
              "      <td>Get the Goat</td>\n",
              "      <td>Vitor Brandt</td>\n",
              "      <td>Matheus Nachtergaele, Edmilson Filho, Letícia ...</td>\n",
              "      <td>Brazil</td>\n",
              "      <td>March 18, 2021</td>\n",
              "      <td>2021</td>\n",
              "      <td>TV-14</td>\n",
              "      <td>98 min</td>\n",
              "      <td>Action &amp; Adventure, Comedies, International Mo...</td>\n",
              "      <td>Two hapless cops find themselves in over their...</td>\n",
              "    </tr>\n",
              "  </tbody>\n",
              "</table>\n",
              "</div>"
            ],
            "text/plain": [
              "     id_programa  ...                                          descricao\n",
              "302         s303  ...  A decade after the seminal Brazilian film \"Cit...\n",
              "650         s651  ...  A disillusioned psychologist tries to commit s...\n",
              "783         s784  ...  After a breakup, an influencer takes her frien...\n",
              "966         s967  ...  After a botched scam, Clóvis bumps into Lohane...\n",
              "1188       s1189  ...  Two hapless cops find themselves in over their...\n",
              "\n",
              "[5 rows x 12 columns]"
            ]
          },
          "metadata": {},
          "execution_count": 36
        }
      ]
    },
    {
      "cell_type": "code",
      "metadata": {
        "colab": {
          "base_uri": "https://localhost:8080/",
          "height": 1000
        },
        "id": "-YCX-8zJVsih",
        "outputId": "f3a725d7-e84b-4c2d-957a-db109de98e4a"
      },
      "source": [
        "df_br.loc[df_br['serie_filme'] == 'filme'][['titulo', 'ano_de_lancamento']]"
      ],
      "execution_count": 37,
      "outputs": [
        {
          "output_type": "execute_result",
          "data": {
            "text/html": [
              "<div>\n",
              "<style scoped>\n",
              "    .dataframe tbody tr th:only-of-type {\n",
              "        vertical-align: middle;\n",
              "    }\n",
              "\n",
              "    .dataframe tbody tr th {\n",
              "        vertical-align: top;\n",
              "    }\n",
              "\n",
              "    .dataframe thead th {\n",
              "        text-align: right;\n",
              "    }\n",
              "</style>\n",
              "<table border=\"1\" class=\"dataframe\">\n",
              "  <thead>\n",
              "    <tr style=\"text-align: right;\">\n",
              "      <th></th>\n",
              "      <th>titulo</th>\n",
              "      <th>ano_de_lancamento</th>\n",
              "    </tr>\n",
              "  </thead>\n",
              "  <tbody>\n",
              "    <tr>\n",
              "      <th>302</th>\n",
              "      <td>City of God: 10 Years Later</td>\n",
              "      <td>2013</td>\n",
              "    </tr>\n",
              "    <tr>\n",
              "      <th>650</th>\n",
              "      <td>O Vendedor de Sonhos</td>\n",
              "      <td>2016</td>\n",
              "    </tr>\n",
              "    <tr>\n",
              "      <th>783</th>\n",
              "      <td>Carnaval</td>\n",
              "      <td>2021</td>\n",
              "    </tr>\n",
              "    <tr>\n",
              "      <th>966</th>\n",
              "      <td>Get the Grift</td>\n",
              "      <td>2021</td>\n",
              "    </tr>\n",
              "    <tr>\n",
              "      <th>1188</th>\n",
              "      <td>Get the Goat</td>\n",
              "      <td>2021</td>\n",
              "    </tr>\n",
              "    <tr>\n",
              "      <th>1403</th>\n",
              "      <td>Double Dad</td>\n",
              "      <td>2020</td>\n",
              "    </tr>\n",
              "    <tr>\n",
              "      <th>1577</th>\n",
              "      <td>Emicida: AmarElo - It’s All For Yesterday</td>\n",
              "      <td>2020</td>\n",
              "    </tr>\n",
              "    <tr>\n",
              "      <th>1601</th>\n",
              "      <td>Just Another Christmas</td>\n",
              "      <td>2020</td>\n",
              "    </tr>\n",
              "    <tr>\n",
              "      <th>1704</th>\n",
              "      <td>The Beginning of Life 2: Outside</td>\n",
              "      <td>2020</td>\n",
              "    </tr>\n",
              "    <tr>\n",
              "      <th>1798</th>\n",
              "      <td>Alice Junior</td>\n",
              "      <td>2019</td>\n",
              "    </tr>\n",
              "    <tr>\n",
              "      <th>2050</th>\n",
              "      <td>Afonso Padilha: Classless</td>\n",
              "      <td>2020</td>\n",
              "    </tr>\n",
              "    <tr>\n",
              "      <th>2302</th>\n",
              "      <td>Thiago Ventura: POKAS</td>\n",
              "      <td>2020</td>\n",
              "    </tr>\n",
              "    <tr>\n",
              "      <th>2563</th>\n",
              "      <td>Luccas Neto em: Acampamento de Férias 2</td>\n",
              "      <td>2020</td>\n",
              "    </tr>\n",
              "    <tr>\n",
              "      <th>2601</th>\n",
              "      <td>Rich in Love</td>\n",
              "      <td>2020</td>\n",
              "    </tr>\n",
              "    <tr>\n",
              "      <th>2679</th>\n",
              "      <td>Maurício Meirelles: Generating Chaos</td>\n",
              "      <td>2020</td>\n",
              "    </tr>\n",
              "    <tr>\n",
              "      <th>2848</th>\n",
              "      <td>Luccas Neto in: The End of Christmas</td>\n",
              "      <td>2019</td>\n",
              "    </tr>\n",
              "    <tr>\n",
              "      <th>3164</th>\n",
              "      <td>Nothing to Lose 2</td>\n",
              "      <td>2019</td>\n",
              "    </tr>\n",
              "    <tr>\n",
              "      <th>3303</th>\n",
              "      <td>Luccas Neto in: Summer Camp</td>\n",
              "      <td>2019</td>\n",
              "    </tr>\n",
              "    <tr>\n",
              "      <th>3556</th>\n",
              "      <td>Kardec</td>\n",
              "      <td>2019</td>\n",
              "    </tr>\n",
              "    <tr>\n",
              "      <th>3591</th>\n",
              "      <td>Whindersson Nunes: Adult</td>\n",
              "      <td>2019</td>\n",
              "    </tr>\n",
              "    <tr>\n",
              "      <th>3732</th>\n",
              "      <td>The Edge of Democracy</td>\n",
              "      <td>2019</td>\n",
              "    </tr>\n",
              "    <tr>\n",
              "      <th>3747</th>\n",
              "      <td>DJ Cinderella</td>\n",
              "      <td>2019</td>\n",
              "    </tr>\n",
              "    <tr>\n",
              "      <th>3929</th>\n",
              "      <td>Liss Pereira: Reteniendo líquidos</td>\n",
              "      <td>2019</td>\n",
              "    </tr>\n",
              "    <tr>\n",
              "      <th>4100</th>\n",
              "      <td>Buddies</td>\n",
              "      <td>2012</td>\n",
              "    </tr>\n",
              "    <tr>\n",
              "      <th>4180</th>\n",
              "      <td>Old Lord Savanna</td>\n",
              "      <td>2018</td>\n",
              "    </tr>\n",
              "    <tr>\n",
              "      <th>4414</th>\n",
              "      <td>Ana e Vitória</td>\n",
              "      <td>2018</td>\n",
              "    </tr>\n",
              "    <tr>\n",
              "      <th>4435</th>\n",
              "      <td>Edmilson Filho: Notas, Comedy about Relationships</td>\n",
              "      <td>2017</td>\n",
              "    </tr>\n",
              "    <tr>\n",
              "      <th>4617</th>\n",
              "      <td>Paradise Lost</td>\n",
              "      <td>2018</td>\n",
              "    </tr>\n",
              "    <tr>\n",
              "      <th>4631</th>\n",
              "      <td>Rafinha Bastos: Ultimatum</td>\n",
              "      <td>2018</td>\n",
              "    </tr>\n",
              "    <tr>\n",
              "      <th>4765</th>\n",
              "      <td>Nothing to Lose</td>\n",
              "      <td>2018</td>\n",
              "    </tr>\n",
              "    <tr>\n",
              "      <th>4917</th>\n",
              "      <td>Fishtronaut: The Movie</td>\n",
              "      <td>2018</td>\n",
              "    </tr>\n",
              "    <tr>\n",
              "      <th>4923</th>\n",
              "      <td>All The Reasons To Forget</td>\n",
              "      <td>2017</td>\n",
              "    </tr>\n",
              "    <tr>\n",
              "      <th>5177</th>\n",
              "      <td>The Killer</td>\n",
              "      <td>2017</td>\n",
              "    </tr>\n",
              "    <tr>\n",
              "      <th>5430</th>\n",
              "      <td>Marco Luque: Tamo Junto</td>\n",
              "      <td>2017</td>\n",
              "    </tr>\n",
              "    <tr>\n",
              "      <th>5454</th>\n",
              "      <td>Love.com</td>\n",
              "      <td>2017</td>\n",
              "    </tr>\n",
              "    <tr>\n",
              "      <th>5478</th>\n",
              "      <td>Laerte-se</td>\n",
              "      <td>2017</td>\n",
              "    </tr>\n",
              "    <tr>\n",
              "      <th>5543</th>\n",
              "      <td>Couples Counseling</td>\n",
              "      <td>2016</td>\n",
              "    </tr>\n",
              "    <tr>\n",
              "      <th>5559</th>\n",
              "      <td>Felipe Neto: My Life Makes No Sense</td>\n",
              "      <td>2017</td>\n",
              "    </tr>\n",
              "    <tr>\n",
              "      <th>5588</th>\n",
              "      <td>Jonas</td>\n",
              "      <td>2015</td>\n",
              "    </tr>\n",
              "    <tr>\n",
              "      <th>5589</th>\n",
              "      <td>Operações Especiais</td>\n",
              "      <td>2015</td>\n",
              "    </tr>\n",
              "    <tr>\n",
              "      <th>5626</th>\n",
              "      <td>O Silêncio do Céu</td>\n",
              "      <td>2016</td>\n",
              "    </tr>\n",
              "    <tr>\n",
              "      <th>5765</th>\n",
              "      <td>Chatô: The King of Brazil</td>\n",
              "      <td>2015</td>\n",
              "    </tr>\n",
              "    <tr>\n",
              "      <th>6048</th>\n",
              "      <td>A new Capitalism</td>\n",
              "      <td>2017</td>\n",
              "    </tr>\n",
              "    <tr>\n",
              "      <th>6207</th>\n",
              "      <td>Back and Forth</td>\n",
              "      <td>2016</td>\n",
              "    </tr>\n",
              "    <tr>\n",
              "      <th>6366</th>\n",
              "      <td>Boy and the World</td>\n",
              "      <td>2013</td>\n",
              "    </tr>\n",
              "    <tr>\n",
              "      <th>6786</th>\n",
              "      <td>Forever Chape</td>\n",
              "      <td>2018</td>\n",
              "    </tr>\n",
              "    <tr>\n",
              "      <th>7818</th>\n",
              "      <td>Radical: the Controversial Saga of Dada Figuei...</td>\n",
              "      <td>2013</td>\n",
              "    </tr>\n",
              "    <tr>\n",
              "      <th>8108</th>\n",
              "      <td>Stronger Than the World</td>\n",
              "      <td>2016</td>\n",
              "    </tr>\n",
              "    <tr>\n",
              "      <th>8300</th>\n",
              "      <td>The First Temptation of Christ</td>\n",
              "      <td>2019</td>\n",
              "    </tr>\n",
              "    <tr>\n",
              "      <th>8386</th>\n",
              "      <td>The Last Hangover</td>\n",
              "      <td>2018</td>\n",
              "    </tr>\n",
              "  </tbody>\n",
              "</table>\n",
              "</div>"
            ],
            "text/plain": [
              "                                                 titulo  ano_de_lancamento\n",
              "302                         City of God: 10 Years Later               2013\n",
              "650                                O Vendedor de Sonhos               2016\n",
              "783                                            Carnaval               2021\n",
              "966                                       Get the Grift               2021\n",
              "1188                                       Get the Goat               2021\n",
              "1403                                         Double Dad               2020\n",
              "1577          Emicida: AmarElo - It’s All For Yesterday               2020\n",
              "1601                             Just Another Christmas               2020\n",
              "1704                   The Beginning of Life 2: Outside               2020\n",
              "1798                                       Alice Junior               2019\n",
              "2050                          Afonso Padilha: Classless               2020\n",
              "2302                              Thiago Ventura: POKAS               2020\n",
              "2563            Luccas Neto em: Acampamento de Férias 2               2020\n",
              "2601                                       Rich in Love               2020\n",
              "2679               Maurício Meirelles: Generating Chaos               2020\n",
              "2848               Luccas Neto in: The End of Christmas               2019\n",
              "3164                                  Nothing to Lose 2               2019\n",
              "3303                        Luccas Neto in: Summer Camp               2019\n",
              "3556                                             Kardec               2019\n",
              "3591                           Whindersson Nunes: Adult               2019\n",
              "3732                              The Edge of Democracy               2019\n",
              "3747                                      DJ Cinderella               2019\n",
              "3929                  Liss Pereira: Reteniendo líquidos               2019\n",
              "4100                                            Buddies               2012\n",
              "4180                                   Old Lord Savanna               2018\n",
              "4414                                      Ana e Vitória               2018\n",
              "4435  Edmilson Filho: Notas, Comedy about Relationships               2017\n",
              "4617                                      Paradise Lost               2018\n",
              "4631                          Rafinha Bastos: Ultimatum               2018\n",
              "4765                                    Nothing to Lose               2018\n",
              "4917                             Fishtronaut: The Movie               2018\n",
              "4923                          All The Reasons To Forget               2017\n",
              "5177                                         The Killer               2017\n",
              "5430                            Marco Luque: Tamo Junto               2017\n",
              "5454                                           Love.com               2017\n",
              "5478                                          Laerte-se               2017\n",
              "5543                                 Couples Counseling               2016\n",
              "5559                Felipe Neto: My Life Makes No Sense               2017\n",
              "5588                                              Jonas               2015\n",
              "5589                                Operações Especiais               2015\n",
              "5626                                  O Silêncio do Céu               2016\n",
              "5765                          Chatô: The King of Brazil               2015\n",
              "6048                                   A new Capitalism               2017\n",
              "6207                                     Back and Forth               2016\n",
              "6366                                  Boy and the World               2013\n",
              "6786                                      Forever Chape               2018\n",
              "7818  Radical: the Controversial Saga of Dada Figuei...               2013\n",
              "8108                            Stronger Than the World               2016\n",
              "8300                     The First Temptation of Christ               2019\n",
              "8386                                  The Last Hangover               2018"
            ]
          },
          "metadata": {},
          "execution_count": 37
        }
      ]
    },
    {
      "cell_type": "code",
      "metadata": {
        "colab": {
          "base_uri": "https://localhost:8080/",
          "height": 1000
        },
        "id": "y_n6Xb6NV8Ne",
        "outputId": "e43a0f63-b534-4d03-b567-f46b3fec60be"
      },
      "source": [
        "df_br.loc[df_br['serie_filme'] == 'filme'][['titulo', 'ano_de_lancamento', 'elenco']].sort_values(['ano_de_lancamento'])"
      ],
      "execution_count": 39,
      "outputs": [
        {
          "output_type": "execute_result",
          "data": {
            "text/html": [
              "<div>\n",
              "<style scoped>\n",
              "    .dataframe tbody tr th:only-of-type {\n",
              "        vertical-align: middle;\n",
              "    }\n",
              "\n",
              "    .dataframe tbody tr th {\n",
              "        vertical-align: top;\n",
              "    }\n",
              "\n",
              "    .dataframe thead th {\n",
              "        text-align: right;\n",
              "    }\n",
              "</style>\n",
              "<table border=\"1\" class=\"dataframe\">\n",
              "  <thead>\n",
              "    <tr style=\"text-align: right;\">\n",
              "      <th></th>\n",
              "      <th>titulo</th>\n",
              "      <th>ano_de_lancamento</th>\n",
              "      <th>elenco</th>\n",
              "    </tr>\n",
              "  </thead>\n",
              "  <tbody>\n",
              "    <tr>\n",
              "      <th>4100</th>\n",
              "      <td>Buddies</td>\n",
              "      <td>2012</td>\n",
              "      <td>Ariel Goldenberg, Rita Pokk, Breno Viola, Lima...</td>\n",
              "    </tr>\n",
              "    <tr>\n",
              "      <th>302</th>\n",
              "      <td>City of God: 10 Years Later</td>\n",
              "      <td>2013</td>\n",
              "      <td>NaN</td>\n",
              "    </tr>\n",
              "    <tr>\n",
              "      <th>7818</th>\n",
              "      <td>Radical: the Controversial Saga of Dada Figuei...</td>\n",
              "      <td>2013</td>\n",
              "      <td>NaN</td>\n",
              "    </tr>\n",
              "    <tr>\n",
              "      <th>6366</th>\n",
              "      <td>Boy and the World</td>\n",
              "      <td>2013</td>\n",
              "      <td>Vinícius Garcia, Felipe Zilse, Alê Abreu, Lu H...</td>\n",
              "    </tr>\n",
              "    <tr>\n",
              "      <th>5765</th>\n",
              "      <td>Chatô: The King of Brazil</td>\n",
              "      <td>2015</td>\n",
              "      <td>Marco Ricca, Andrea Beltrão, Letícia Sabatella...</td>\n",
              "    </tr>\n",
              "    <tr>\n",
              "      <th>5589</th>\n",
              "      <td>Operações Especiais</td>\n",
              "      <td>2015</td>\n",
              "      <td>Cleo Pires, Marcos Caruso, Thiago Martins, Fab...</td>\n",
              "    </tr>\n",
              "    <tr>\n",
              "      <th>5588</th>\n",
              "      <td>Jonas</td>\n",
              "      <td>2015</td>\n",
              "      <td>Jesuíta Barbosa, Laura Neiva, Criolo, Ana Cecí...</td>\n",
              "    </tr>\n",
              "    <tr>\n",
              "      <th>650</th>\n",
              "      <td>O Vendedor de Sonhos</td>\n",
              "      <td>2016</td>\n",
              "      <td>César Troncoso, Dan Stulbach, Thiago Mendonça,...</td>\n",
              "    </tr>\n",
              "    <tr>\n",
              "      <th>8108</th>\n",
              "      <td>Stronger Than the World</td>\n",
              "      <td>2016</td>\n",
              "      <td>José Loreto, Cleo Pires, Milhem Cortaz, Jackso...</td>\n",
              "    </tr>\n",
              "    <tr>\n",
              "      <th>6207</th>\n",
              "      <td>Back and Forth</td>\n",
              "      <td>2016</td>\n",
              "      <td>Ingrid Guimarães, Fábio Assunção, Alice Braga,...</td>\n",
              "    </tr>\n",
              "    <tr>\n",
              "      <th>5626</th>\n",
              "      <td>O Silêncio do Céu</td>\n",
              "      <td>2016</td>\n",
              "      <td>Leonardo Sbaraglia, Carolina Dieckmann, Chino ...</td>\n",
              "    </tr>\n",
              "    <tr>\n",
              "      <th>5543</th>\n",
              "      <td>Couples Counseling</td>\n",
              "      <td>2016</td>\n",
              "      <td>Zezé Polessa, Daniel Dantas, Paulo Vilhena, Fe...</td>\n",
              "    </tr>\n",
              "    <tr>\n",
              "      <th>4923</th>\n",
              "      <td>All The Reasons To Forget</td>\n",
              "      <td>2017</td>\n",
              "      <td>Johnny Massaro, Bianca Comparato, Regina Braga...</td>\n",
              "    </tr>\n",
              "    <tr>\n",
              "      <th>5177</th>\n",
              "      <td>The Killer</td>\n",
              "      <td>2017</td>\n",
              "      <td>Diogo Morgado, Etienne Chicot, Maria de Medeir...</td>\n",
              "    </tr>\n",
              "    <tr>\n",
              "      <th>5430</th>\n",
              "      <td>Marco Luque: Tamo Junto</td>\n",
              "      <td>2017</td>\n",
              "      <td>Marco Luque</td>\n",
              "    </tr>\n",
              "    <tr>\n",
              "      <th>5559</th>\n",
              "      <td>Felipe Neto: My Life Makes No Sense</td>\n",
              "      <td>2017</td>\n",
              "      <td>Felipe Neto</td>\n",
              "    </tr>\n",
              "    <tr>\n",
              "      <th>5478</th>\n",
              "      <td>Laerte-se</td>\n",
              "      <td>2017</td>\n",
              "      <td>Laerte Coutinho</td>\n",
              "    </tr>\n",
              "    <tr>\n",
              "      <th>6048</th>\n",
              "      <td>A new Capitalism</td>\n",
              "      <td>2017</td>\n",
              "      <td>NaN</td>\n",
              "    </tr>\n",
              "    <tr>\n",
              "      <th>5454</th>\n",
              "      <td>Love.com</td>\n",
              "      <td>2017</td>\n",
              "      <td>Isis Valverde, Gil Coelho, Joaquim Lopes, Caro...</td>\n",
              "    </tr>\n",
              "    <tr>\n",
              "      <th>4435</th>\n",
              "      <td>Edmilson Filho: Notas, Comedy about Relationships</td>\n",
              "      <td>2017</td>\n",
              "      <td>Edmilson Filho</td>\n",
              "    </tr>\n",
              "    <tr>\n",
              "      <th>6786</th>\n",
              "      <td>Forever Chape</td>\n",
              "      <td>2018</td>\n",
              "      <td>NaN</td>\n",
              "    </tr>\n",
              "    <tr>\n",
              "      <th>4917</th>\n",
              "      <td>Fishtronaut: The Movie</td>\n",
              "      <td>2018</td>\n",
              "      <td>Fábio Lucindo, Celso Alves, Fernanda Bullara</td>\n",
              "    </tr>\n",
              "    <tr>\n",
              "      <th>4765</th>\n",
              "      <td>Nothing to Lose</td>\n",
              "      <td>2018</td>\n",
              "      <td>Petrônio Gontijo, Day Mesquita, Beth Goulart, ...</td>\n",
              "    </tr>\n",
              "    <tr>\n",
              "      <th>4631</th>\n",
              "      <td>Rafinha Bastos: Ultimatum</td>\n",
              "      <td>2018</td>\n",
              "      <td>Rafinha Bastos</td>\n",
              "    </tr>\n",
              "    <tr>\n",
              "      <th>4617</th>\n",
              "      <td>Paradise Lost</td>\n",
              "      <td>2018</td>\n",
              "      <td>Júlio Andrade, Lee Taylor, Hermila Guedes, Jul...</td>\n",
              "    </tr>\n",
              "    <tr>\n",
              "      <th>4180</th>\n",
              "      <td>Old Lord Savanna</td>\n",
              "      <td>2018</td>\n",
              "      <td>Leonardo Ribeiro</td>\n",
              "    </tr>\n",
              "    <tr>\n",
              "      <th>8386</th>\n",
              "      <td>The Last Hangover</td>\n",
              "      <td>2018</td>\n",
              "      <td>Fábio Porchat, Gregório Duvivier, Antonio Tabe...</td>\n",
              "    </tr>\n",
              "    <tr>\n",
              "      <th>4414</th>\n",
              "      <td>Ana e Vitória</td>\n",
              "      <td>2018</td>\n",
              "      <td>Ana Caetano, Vitória Falcão, Clarissa Müller, ...</td>\n",
              "    </tr>\n",
              "    <tr>\n",
              "      <th>1798</th>\n",
              "      <td>Alice Junior</td>\n",
              "      <td>2019</td>\n",
              "      <td>Anne Celestino Mota, Emmanuel Rosset, Matheus ...</td>\n",
              "    </tr>\n",
              "    <tr>\n",
              "      <th>2848</th>\n",
              "      <td>Luccas Neto in: The End of Christmas</td>\n",
              "      <td>2019</td>\n",
              "      <td>Luccas Neto, Giovanna Alparone, Cleber Salgado...</td>\n",
              "    </tr>\n",
              "    <tr>\n",
              "      <th>3164</th>\n",
              "      <td>Nothing to Lose 2</td>\n",
              "      <td>2019</td>\n",
              "      <td>Petrônio Gontijo, Day Mesquita, Beth Goulart, ...</td>\n",
              "    </tr>\n",
              "    <tr>\n",
              "      <th>3303</th>\n",
              "      <td>Luccas Neto in: Summer Camp</td>\n",
              "      <td>2019</td>\n",
              "      <td>Luccas Neto, Gi Alparone, Jéssica Diehl, Roni ...</td>\n",
              "    </tr>\n",
              "    <tr>\n",
              "      <th>8300</th>\n",
              "      <td>The First Temptation of Christ</td>\n",
              "      <td>2019</td>\n",
              "      <td>Gregorio Duvivier, Fábio Porchat, Antonio Tabe...</td>\n",
              "    </tr>\n",
              "    <tr>\n",
              "      <th>3591</th>\n",
              "      <td>Whindersson Nunes: Adult</td>\n",
              "      <td>2019</td>\n",
              "      <td>Whindersson Nunes</td>\n",
              "    </tr>\n",
              "    <tr>\n",
              "      <th>3732</th>\n",
              "      <td>The Edge of Democracy</td>\n",
              "      <td>2019</td>\n",
              "      <td>NaN</td>\n",
              "    </tr>\n",
              "    <tr>\n",
              "      <th>3747</th>\n",
              "      <td>DJ Cinderella</td>\n",
              "      <td>2019</td>\n",
              "      <td>Maísa Silva, Filipe Bragança, Fernanda Paes Le...</td>\n",
              "    </tr>\n",
              "    <tr>\n",
              "      <th>3556</th>\n",
              "      <td>Kardec</td>\n",
              "      <td>2019</td>\n",
              "      <td>Leonardo Medeiros, Sandra Corveloni, Genezio d...</td>\n",
              "    </tr>\n",
              "    <tr>\n",
              "      <th>3929</th>\n",
              "      <td>Liss Pereira: Reteniendo líquidos</td>\n",
              "      <td>2019</td>\n",
              "      <td>Liss Pereira</td>\n",
              "    </tr>\n",
              "    <tr>\n",
              "      <th>1403</th>\n",
              "      <td>Double Dad</td>\n",
              "      <td>2020</td>\n",
              "      <td>Maisa Silva, Eduardo Moscovis, Marcelo Médici,...</td>\n",
              "    </tr>\n",
              "    <tr>\n",
              "      <th>1577</th>\n",
              "      <td>Emicida: AmarElo - It’s All For Yesterday</td>\n",
              "      <td>2020</td>\n",
              "      <td>Emicida</td>\n",
              "    </tr>\n",
              "    <tr>\n",
              "      <th>1601</th>\n",
              "      <td>Just Another Christmas</td>\n",
              "      <td>2020</td>\n",
              "      <td>Leandro Hassum, Elisa Pinheiro, Danielle Winit...</td>\n",
              "    </tr>\n",
              "    <tr>\n",
              "      <th>1704</th>\n",
              "      <td>The Beginning of Life 2: Outside</td>\n",
              "      <td>2020</td>\n",
              "      <td>NaN</td>\n",
              "    </tr>\n",
              "    <tr>\n",
              "      <th>2302</th>\n",
              "      <td>Thiago Ventura: POKAS</td>\n",
              "      <td>2020</td>\n",
              "      <td>Thiago Ventura</td>\n",
              "    </tr>\n",
              "    <tr>\n",
              "      <th>2601</th>\n",
              "      <td>Rich in Love</td>\n",
              "      <td>2020</td>\n",
              "      <td>Danilo Mesquita, Giovanna Lancellotti, Jaffar ...</td>\n",
              "    </tr>\n",
              "    <tr>\n",
              "      <th>2679</th>\n",
              "      <td>Maurício Meirelles: Generating Chaos</td>\n",
              "      <td>2020</td>\n",
              "      <td>Maurício Meirelles</td>\n",
              "    </tr>\n",
              "    <tr>\n",
              "      <th>2050</th>\n",
              "      <td>Afonso Padilha: Classless</td>\n",
              "      <td>2020</td>\n",
              "      <td>Afonso Padilha</td>\n",
              "    </tr>\n",
              "    <tr>\n",
              "      <th>2563</th>\n",
              "      <td>Luccas Neto em: Acampamento de Férias 2</td>\n",
              "      <td>2020</td>\n",
              "      <td>Luccas Neto, Giovanna Alparone, Jéssica Diehl,...</td>\n",
              "    </tr>\n",
              "    <tr>\n",
              "      <th>1188</th>\n",
              "      <td>Get the Goat</td>\n",
              "      <td>2021</td>\n",
              "      <td>Matheus Nachtergaele, Edmilson Filho, Letícia ...</td>\n",
              "    </tr>\n",
              "    <tr>\n",
              "      <th>966</th>\n",
              "      <td>Get the Grift</td>\n",
              "      <td>2021</td>\n",
              "      <td>Marcus Majella, Samantha Schmütz, Caito Mainie...</td>\n",
              "    </tr>\n",
              "    <tr>\n",
              "      <th>783</th>\n",
              "      <td>Carnaval</td>\n",
              "      <td>2021</td>\n",
              "      <td>Giovana Cordeiro, Gkay, Bruna Inocencio, Samya...</td>\n",
              "    </tr>\n",
              "  </tbody>\n",
              "</table>\n",
              "</div>"
            ],
            "text/plain": [
              "                                                 titulo  ...                                             elenco\n",
              "4100                                            Buddies  ...  Ariel Goldenberg, Rita Pokk, Breno Viola, Lima...\n",
              "302                         City of God: 10 Years Later  ...                                                NaN\n",
              "7818  Radical: the Controversial Saga of Dada Figuei...  ...                                                NaN\n",
              "6366                                  Boy and the World  ...  Vinícius Garcia, Felipe Zilse, Alê Abreu, Lu H...\n",
              "5765                          Chatô: The King of Brazil  ...  Marco Ricca, Andrea Beltrão, Letícia Sabatella...\n",
              "5589                                Operações Especiais  ...  Cleo Pires, Marcos Caruso, Thiago Martins, Fab...\n",
              "5588                                              Jonas  ...  Jesuíta Barbosa, Laura Neiva, Criolo, Ana Cecí...\n",
              "650                                O Vendedor de Sonhos  ...  César Troncoso, Dan Stulbach, Thiago Mendonça,...\n",
              "8108                            Stronger Than the World  ...  José Loreto, Cleo Pires, Milhem Cortaz, Jackso...\n",
              "6207                                     Back and Forth  ...  Ingrid Guimarães, Fábio Assunção, Alice Braga,...\n",
              "5626                                  O Silêncio do Céu  ...  Leonardo Sbaraglia, Carolina Dieckmann, Chino ...\n",
              "5543                                 Couples Counseling  ...  Zezé Polessa, Daniel Dantas, Paulo Vilhena, Fe...\n",
              "4923                          All The Reasons To Forget  ...  Johnny Massaro, Bianca Comparato, Regina Braga...\n",
              "5177                                         The Killer  ...  Diogo Morgado, Etienne Chicot, Maria de Medeir...\n",
              "5430                            Marco Luque: Tamo Junto  ...                                        Marco Luque\n",
              "5559                Felipe Neto: My Life Makes No Sense  ...                                        Felipe Neto\n",
              "5478                                          Laerte-se  ...                                    Laerte Coutinho\n",
              "6048                                   A new Capitalism  ...                                                NaN\n",
              "5454                                           Love.com  ...  Isis Valverde, Gil Coelho, Joaquim Lopes, Caro...\n",
              "4435  Edmilson Filho: Notas, Comedy about Relationships  ...                                     Edmilson Filho\n",
              "6786                                      Forever Chape  ...                                                NaN\n",
              "4917                             Fishtronaut: The Movie  ...       Fábio Lucindo, Celso Alves, Fernanda Bullara\n",
              "4765                                    Nothing to Lose  ...  Petrônio Gontijo, Day Mesquita, Beth Goulart, ...\n",
              "4631                          Rafinha Bastos: Ultimatum  ...                                     Rafinha Bastos\n",
              "4617                                      Paradise Lost  ...  Júlio Andrade, Lee Taylor, Hermila Guedes, Jul...\n",
              "4180                                   Old Lord Savanna  ...                                   Leonardo Ribeiro\n",
              "8386                                  The Last Hangover  ...  Fábio Porchat, Gregório Duvivier, Antonio Tabe...\n",
              "4414                                      Ana e Vitória  ...  Ana Caetano, Vitória Falcão, Clarissa Müller, ...\n",
              "1798                                       Alice Junior  ...  Anne Celestino Mota, Emmanuel Rosset, Matheus ...\n",
              "2848               Luccas Neto in: The End of Christmas  ...  Luccas Neto, Giovanna Alparone, Cleber Salgado...\n",
              "3164                                  Nothing to Lose 2  ...  Petrônio Gontijo, Day Mesquita, Beth Goulart, ...\n",
              "3303                        Luccas Neto in: Summer Camp  ...  Luccas Neto, Gi Alparone, Jéssica Diehl, Roni ...\n",
              "8300                     The First Temptation of Christ  ...  Gregorio Duvivier, Fábio Porchat, Antonio Tabe...\n",
              "3591                           Whindersson Nunes: Adult  ...                                  Whindersson Nunes\n",
              "3732                              The Edge of Democracy  ...                                                NaN\n",
              "3747                                      DJ Cinderella  ...  Maísa Silva, Filipe Bragança, Fernanda Paes Le...\n",
              "3556                                             Kardec  ...  Leonardo Medeiros, Sandra Corveloni, Genezio d...\n",
              "3929                  Liss Pereira: Reteniendo líquidos  ...                                       Liss Pereira\n",
              "1403                                         Double Dad  ...  Maisa Silva, Eduardo Moscovis, Marcelo Médici,...\n",
              "1577          Emicida: AmarElo - It’s All For Yesterday  ...                                            Emicida\n",
              "1601                             Just Another Christmas  ...  Leandro Hassum, Elisa Pinheiro, Danielle Winit...\n",
              "1704                   The Beginning of Life 2: Outside  ...                                                NaN\n",
              "2302                              Thiago Ventura: POKAS  ...                                     Thiago Ventura\n",
              "2601                                       Rich in Love  ...  Danilo Mesquita, Giovanna Lancellotti, Jaffar ...\n",
              "2679               Maurício Meirelles: Generating Chaos  ...                                 Maurício Meirelles\n",
              "2050                          Afonso Padilha: Classless  ...                                     Afonso Padilha\n",
              "2563            Luccas Neto em: Acampamento de Férias 2  ...  Luccas Neto, Giovanna Alparone, Jéssica Diehl,...\n",
              "1188                                       Get the Goat  ...  Matheus Nachtergaele, Edmilson Filho, Letícia ...\n",
              "966                                       Get the Grift  ...  Marcus Majella, Samantha Schmütz, Caito Mainie...\n",
              "783                                            Carnaval  ...  Giovana Cordeiro, Gkay, Bruna Inocencio, Samya...\n",
              "\n",
              "[50 rows x 3 columns]"
            ]
          },
          "metadata": {},
          "execution_count": 39
        }
      ]
    },
    {
      "cell_type": "markdown",
      "metadata": {
        "id": "1hfdvj57WiXM"
      },
      "source": [
        "## Pesquisando sobre a Coréia na Netflix"
      ]
    },
    {
      "cell_type": "code",
      "metadata": {
        "colab": {
          "base_uri": "https://localhost:8080/"
        },
        "id": "DeByjLthWJhU",
        "outputId": "bdf448ba-9d28-4344-cca2-e107c0829879"
      },
      "source": [
        "df['pais'].value_counts()"
      ],
      "execution_count": 42,
      "outputs": [
        {
          "output_type": "execute_result",
          "data": {
            "text/plain": [
              "United States                         2818\n",
              "India                                  972\n",
              "United Kingdom                         419\n",
              "Japan                                  245\n",
              "South Korea                            199\n",
              "                                      ... \n",
              "Ireland, United States, France           1\n",
              "Egypt, Denmark, Germany                  1\n",
              "South Africa, United States, Japan       1\n",
              "United States, Morocco                   1\n",
              "India, Germany, Austria                  1\n",
              "Name: pais, Length: 748, dtype: int64"
            ]
          },
          "metadata": {},
          "execution_count": 42
        }
      ]
    },
    {
      "cell_type": "code",
      "metadata": {
        "id": "ywV9o1W8Wulh"
      },
      "source": [
        "df_k = df[(df['pais'] == 'South Korea')]"
      ],
      "execution_count": 45,
      "outputs": []
    },
    {
      "cell_type": "code",
      "metadata": {
        "colab": {
          "base_uri": "https://localhost:8080/",
          "height": 271
        },
        "id": "UNkpo-XUWvkR",
        "outputId": "f2e0a5c6-9ba0-4d5f-9899-79de3bd6e760"
      },
      "source": [
        "df_k.head(2)"
      ],
      "execution_count": 49,
      "outputs": [
        {
          "output_type": "execute_result",
          "data": {
            "text/html": [
              "<div>\n",
              "<style scoped>\n",
              "    .dataframe tbody tr th:only-of-type {\n",
              "        vertical-align: middle;\n",
              "    }\n",
              "\n",
              "    .dataframe tbody tr th {\n",
              "        vertical-align: top;\n",
              "    }\n",
              "\n",
              "    .dataframe thead th {\n",
              "        text-align: right;\n",
              "    }\n",
              "</style>\n",
              "<table border=\"1\" class=\"dataframe\">\n",
              "  <thead>\n",
              "    <tr style=\"text-align: right;\">\n",
              "      <th></th>\n",
              "      <th>id_programa</th>\n",
              "      <th>serie_filme</th>\n",
              "      <th>titulo</th>\n",
              "      <th>diretor</th>\n",
              "      <th>elenco</th>\n",
              "      <th>pais</th>\n",
              "      <th>adicionado_na_netflix</th>\n",
              "      <th>ano_de_lancamento</th>\n",
              "      <th>avaliacao</th>\n",
              "      <th>duracao</th>\n",
              "      <th>classificacao</th>\n",
              "      <th>descricao</th>\n",
              "    </tr>\n",
              "  </thead>\n",
              "  <tbody>\n",
              "    <tr>\n",
              "      <th>104</th>\n",
              "      <td>s105</td>\n",
              "      <td>serie</td>\n",
              "      <td>Tayo the Little Bus</td>\n",
              "      <td>NaN</td>\n",
              "      <td>Robyn Slade, Kami Desilets</td>\n",
              "      <td>South Korea</td>\n",
              "      <td>September 6, 2021</td>\n",
              "      <td>2016</td>\n",
              "      <td>TV-Y</td>\n",
              "      <td>2 Seasons</td>\n",
              "      <td>Kids' TV, Korean TV Shows</td>\n",
              "      <td>As they learn their routes around the busy cit...</td>\n",
              "    </tr>\n",
              "    <tr>\n",
              "      <th>124</th>\n",
              "      <td>s125</td>\n",
              "      <td>serie</td>\n",
              "      <td>Pororo - The Little Penguin</td>\n",
              "      <td>NaN</td>\n",
              "      <td>NaN</td>\n",
              "      <td>South Korea</td>\n",
              "      <td>September 2, 2021</td>\n",
              "      <td>2013</td>\n",
              "      <td>TV-Y7</td>\n",
              "      <td>3 Seasons</td>\n",
              "      <td>Kids' TV, Korean TV Shows</td>\n",
              "      <td>On a tiny island, Pororo the penguin has fun a...</td>\n",
              "    </tr>\n",
              "  </tbody>\n",
              "</table>\n",
              "</div>"
            ],
            "text/plain": [
              "    id_programa  ...                                          descricao\n",
              "104        s105  ...  As they learn their routes around the busy cit...\n",
              "124        s125  ...  On a tiny island, Pororo the penguin has fun a...\n",
              "\n",
              "[2 rows x 12 columns]"
            ]
          },
          "metadata": {},
          "execution_count": 49
        }
      ]
    },
    {
      "cell_type": "code",
      "metadata": {
        "colab": {
          "base_uri": "https://localhost:8080/"
        },
        "id": "OxC5U7KCXQS_",
        "outputId": "678e2adf-3b66-43e2-aa84-4dcaa73aaa18"
      },
      "source": [
        "df_k['serie_filme'].value_counts()"
      ],
      "execution_count": 50,
      "outputs": [
        {
          "output_type": "execute_result",
          "data": {
            "text/plain": [
              "serie    158\n",
              "filme     41\n",
              "Name: serie_filme, dtype: int64"
            ]
          },
          "metadata": {},
          "execution_count": 50
        }
      ]
    },
    {
      "cell_type": "code",
      "metadata": {
        "colab": {
          "base_uri": "https://localhost:8080/"
        },
        "id": "9AGP19DVXdYW",
        "outputId": "f3e082cb-0f14-4f70-b3ba-30bc1a0b2b1c"
      },
      "source": [
        "paises = df['pais'].value_counts()\n",
        "len(paises.unique())"
      ],
      "execution_count": 54,
      "outputs": [
        {
          "output_type": "execute_result",
          "data": {
            "text/plain": [
              "50"
            ]
          },
          "metadata": {},
          "execution_count": 54
        }
      ]
    },
    {
      "cell_type": "code",
      "metadata": {
        "colab": {
          "base_uri": "https://localhost:8080/",
          "height": 593
        },
        "id": "3JFTTObtX1cT",
        "outputId": "628f329b-cdd8-4269-dda9-f152de768ad5"
      },
      "source": [
        "paises[:20].plot.pie(y=paises.value_counts(), figsize=(12, 10))"
      ],
      "execution_count": 59,
      "outputs": [
        {
          "output_type": "execute_result",
          "data": {
            "text/plain": [
              "<matplotlib.axes._subplots.AxesSubplot at 0x7fbf0d822190>"
            ]
          },
          "metadata": {},
          "execution_count": 59
        },
        {
          "output_type": "display_data",
          "data": {
            "image/png": "[encoded data removed]",
            "text/plain": [
              "<Figure size 864x720 with 1 Axes>"
            ]
          },
          "metadata": {}
        }
      ]
    },
    {
      "cell_type": "code",
      "metadata": {
        "id": "5NkDgI3MYLhJ"
      },
      "source": [
        ""
      ],
      "execution_count": null,
      "outputs": []
    }
  ]
}